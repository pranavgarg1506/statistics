{
  "nbformat": 4,
  "nbformat_minor": 0,
  "metadata": {
    "colab": {
      "name": "confusion_matrix.ipynb",
      "provenance": [],
      "authorship_tag": "ABX9TyMr150/0AcWCQArB57+jGia",
      "include_colab_link": true
    },
    "kernelspec": {
      "name": "python3",
      "display_name": "Python 3"
    }
  },
  "cells": [
    {
      "cell_type": "markdown",
      "metadata": {
        "id": "view-in-github",
        "colab_type": "text"
      },
      "source": [
        "<a href=\"https://colab.research.google.com/github/pranavkriya/statistics/blob/main/confusion_matrix.ipynb\" target=\"_parent\"><img src=\"https://colab.research.google.com/assets/colab-badge.svg\" alt=\"Open In Colab\"/></a>"
      ]
    },
    {
      "cell_type": "code",
      "metadata": {
        "colab": {
          "base_uri": "https://localhost:8080/"
        },
        "id": "433XfApLO5zd",
        "outputId": "2f397515-7399-407b-9b49-a9669d9d23e8"
      },
      "source": [
        "import warnings\n",
        "warnings.filterwarnings('ignore')\n",
        "\n",
        "import numpy as np\n",
        "import pandas as pd\n",
        "\n",
        "\n",
        "from sklearn import metrics, svm, model_selection, datasets\n",
        "\n",
        "cancer = datasets.load_breast_cancer()\n",
        "\n",
        "df = pd.DataFrame(cancer.data, columns=cancer.feature_names)\n",
        "df['target'] = cancer.target\n",
        "\n",
        "x = df.drop(['target'],axis=1)\n",
        "y = df['target']\n",
        "x_train, x_test, y_train, y_test = model_selection.train_test_split(x,y,test_size = 0.2, random_state = 2)\n",
        "\n",
        "clf = svm.SVC()\n",
        "clf.fit(x_train,y_train)\n",
        "\n",
        "y_pred = clf.predict(x_test)\n",
        "\n",
        "tp, fn, fp, tn = metrics.confusion_matrix(y_test,y_pred,labels=[1,0]).reshape(-1)\n",
        "print(' tp fn fp tn\\n', tp, fn, '',fp, '',tn)\n",
        "\n",
        "print(metrics.classification_report(y_test, y_pred,labels=[1,0]))"
      ],
      "execution_count": 1,
      "outputs": [
        {
          "output_type": "stream",
          "text": [
            " tp fn fp tn\n",
            " 65 4  7  38\n",
            "              precision    recall  f1-score   support\n",
            "\n",
            "           1       0.90      0.94      0.92        69\n",
            "           0       0.90      0.84      0.87        45\n",
            "\n",
            "    accuracy                           0.90       114\n",
            "   macro avg       0.90      0.89      0.90       114\n",
            "weighted avg       0.90      0.90      0.90       114\n",
            "\n"
          ],
          "name": "stdout"
        }
      ]
    },
    {
      "cell_type": "code",
      "metadata": {
        "id": "EVQnMtOKO6z4"
      },
      "source": [
        ""
      ],
      "execution_count": null,
      "outputs": []
    }
  ]
}