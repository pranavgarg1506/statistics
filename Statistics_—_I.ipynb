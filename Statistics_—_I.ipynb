{
  "nbformat": 4,
  "nbformat_minor": 0,
  "metadata": {
    "colab": {
      "name": "Statistics — I.ipynb",
      "provenance": [],
      "include_colab_link": true
    },
    "kernelspec": {
      "name": "python3",
      "display_name": "Python 3"
    }
  },
  "cells": [
    {
      "cell_type": "markdown",
      "metadata": {
        "id": "view-in-github",
        "colab_type": "text"
      },
      "source": [
        "<a href=\"https://colab.research.google.com/github/pranavgarg1506/statistics/blob/main/Statistics_%E2%80%94_I.ipynb\" target=\"_parent\"><img src=\"https://colab.research.google.com/assets/colab-badge.svg\" alt=\"Open In Colab\"/></a>"
      ]
    },
    {
      "cell_type": "code",
      "metadata": {
        "id": "J3qDYnVG6UHl"
      },
      "source": [
        "## Code For Statistics -- 1\n",
        "## https://pranavgarg97.medium.com/statistics-i-302d540ee4b1\n",
        "\n",
        "import numpy as np\n",
        "import statistics\n",
        "from  scipy import stats\n",
        "\n",
        "elements = [13,56,3,78,23,87,4,3,51,43]\n"
      ],
      "execution_count": 1,
      "outputs": []
    },
    {
      "cell_type": "markdown",
      "metadata": {
        "id": "HBtgamhh8L2X"
      },
      "source": [
        "<h2> Central Tendancy </h2>"
      ]
    },
    {
      "cell_type": "code",
      "metadata": {
        "colab": {
          "base_uri": "https://localhost:8080/"
        },
        "id": "MjdygLOx6rLH",
        "outputId": "3e1db0f4-50ad-44a9-e8ee-d7b0c0e11452"
      },
      "source": [
        "## Mean\n",
        "mean_value = np.mean(elements)\n",
        "print(\"Mean Value of the elements\",mean_value)"
      ],
      "execution_count": 2,
      "outputs": [
        {
          "output_type": "stream",
          "text": [
            "Mean Value of the elements 36.1\n"
          ],
          "name": "stdout"
        }
      ]
    },
    {
      "cell_type": "code",
      "metadata": {
        "colab": {
          "base_uri": "https://localhost:8080/"
        },
        "id": "8bAcv_eP6y9B",
        "outputId": "c5f14cae-fbbd-4f06-8b7f-86da972cd28e"
      },
      "source": [
        "## Median\n",
        "median_value = np.median(elements)\n",
        "print(\"Median Value of the elements\",median_value)"
      ],
      "execution_count": 3,
      "outputs": [
        {
          "output_type": "stream",
          "text": [
            "Median Value of the elements 33.0\n"
          ],
          "name": "stdout"
        }
      ]
    },
    {
      "cell_type": "code",
      "metadata": {
        "colab": {
          "base_uri": "https://localhost:8080/"
        },
        "id": "Uc7NWnyP7DZg",
        "outputId": "4e94f9f0-5a44-4b2a-bc8b-eeb539404fbe"
      },
      "source": [
        "## Mode\n",
        "mode_value = statistics.mode(elements)\n",
        "print(\"Mode Value of the elements\",mode_value)"
      ],
      "execution_count": 4,
      "outputs": [
        {
          "output_type": "stream",
          "text": [
            "Mode Value of the elements 3\n"
          ],
          "name": "stdout"
        }
      ]
    },
    {
      "cell_type": "markdown",
      "metadata": {
        "id": "LHaLZBrz7aWI"
      },
      "source": [
        "<h2> Variability </h2>"
      ]
    },
    {
      "cell_type": "code",
      "metadata": {
        "colab": {
          "base_uri": "https://localhost:8080/"
        },
        "id": "3WOW6tDn7ehW",
        "outputId": "c611fedb-0e3c-443a-f452-8cfe8b09a524"
      },
      "source": [
        "## variance\n",
        "var_value = np.var(elements)\n",
        "print(\"Variance Value of the elements\",var_value)"
      ],
      "execution_count": 5,
      "outputs": [
        {
          "output_type": "stream",
          "text": [
            "Variance Value of the elements 893.8900000000001\n"
          ],
          "name": "stdout"
        }
      ]
    },
    {
      "cell_type": "code",
      "metadata": {
        "colab": {
          "base_uri": "https://localhost:8080/"
        },
        "id": "xkoWV5Gg7oDs",
        "outputId": "814f9998-9ae7-45df-cf43-899ba13c54ab"
      },
      "source": [
        "## standard Deviation\n",
        "std_value = np.std(elements)\n",
        "print(\"Standard Dev. Value of the elements\",std_value)"
      ],
      "execution_count": 6,
      "outputs": [
        {
          "output_type": "stream",
          "text": [
            "Standard Dev. Value of the elements 29.89799324369447\n"
          ],
          "name": "stdout"
        }
      ]
    },
    {
      "cell_type": "code",
      "metadata": {
        "colab": {
          "base_uri": "https://localhost:8080/"
        },
        "id": "D3rJ8r6b7ylO",
        "outputId": "250eb0b8-241e-4c7f-a825-5fd49993a8f8"
      },
      "source": [
        "## coefficient Of Variation\n",
        "cv_value = std_value / mean_value\n",
        "print(\"Coeficient Variation Value of the elements\",cv_value)"
      ],
      "execution_count": 7,
      "outputs": [
        {
          "output_type": "stream",
          "text": [
            "Coeficient Variation Value of the elements 0.8281992588281016\n"
          ],
          "name": "stdout"
        }
      ]
    },
    {
      "cell_type": "code",
      "metadata": {
        "colab": {
          "base_uri": "https://localhost:8080/"
        },
        "id": "OamKEFfA8E2S",
        "outputId": "b5adcb12-cf1a-4cdc-e624-b60e3c866299"
      },
      "source": [
        "## Covariance\n",
        "x = [1,2,3,4,5,6,7]\n",
        "y = [5,6,10,17,16,21,24]\n",
        "\n",
        "mean_x = sum(x) / len(x)\n",
        "mean_y = sum(y) / len(y)\n",
        "\n",
        "cov_value = sum((a - mean_x) * (b - mean_y) for (a,b) in zip(x,y)) / len(x)\n",
        "print(\"Covariance Value is\",cov_value)\n",
        "print(\"value is positive\")"
      ],
      "execution_count": 8,
      "outputs": [
        {
          "output_type": "stream",
          "text": [
            "Covariance Value is 13.285714285714286\n",
            "value is positive\n"
          ],
          "name": "stdout"
        }
      ]
    },
    {
      "cell_type": "code",
      "metadata": {
        "colab": {
          "base_uri": "https://localhost:8080/",
          "height": 265
        },
        "id": "Hft9zapA-nYP",
        "outputId": "384bbc02-ba1d-43c7-9ff3-944d4a91573f"
      },
      "source": [
        "import matplotlib.pyplot as plt\n",
        "\n",
        "plt.scatter(x,y)\n",
        "plt.show()"
      ],
      "execution_count": 9,
      "outputs": [
        {
          "output_type": "display_data",
          "data": {
            "image/png": "[encoded data removed]",
            "text/plain": [
              "<Figure size 432x288 with 1 Axes>"
            ]
          },
          "metadata": {
            "tags": [],
            "needs_background": "light"
          }
        }
      ]
    },
    {
      "cell_type": "code",
      "metadata": {
        "colab": {
          "base_uri": "https://localhost:8080/"
        },
        "id": "bkTolpAnFlk1",
        "outputId": "d1dcf6e1-e5aa-4ff0-a24c-bdd75820551b"
      },
      "source": [
        "## Corelation Coefficeint (r-value)\n",
        "slope, intercept, r_value, p_value, std_err = stats.linregress(x,y)\n",
        "r_value\n"
      ],
      "execution_count": 10,
      "outputs": [
        {
          "output_type": "execute_result",
          "data": {
            "text/plain": [
              "0.9781348514446356"
            ]
          },
          "metadata": {
            "tags": []
          },
          "execution_count": 10
        }
      ]
    },
    {
      "cell_type": "markdown",
      "metadata": {
        "id": "af2LwoVJGxYP"
      },
      "source": [
        "As we can see that the r value is very high for x and y and graph is also showing a positive corelation between x and y"
      ]
    },
    {
      "cell_type": "markdown",
      "metadata": {
        "id": "UQ0VewnPG897"
      },
      "source": [
        "<h3> Combining all the Descriptional Stats in a function</h3>"
      ]
    },
    {
      "cell_type": "code",
      "metadata": {
        "id": "Hl79TE8pG8Q3"
      },
      "source": [
        "import numpy as np\n",
        "import statistics\n",
        "\n",
        "def getStatisticsData(obj, **args):\n",
        "  '''\n",
        "  input arguments\n",
        "  obj: type supported (list, ndarray)\n",
        "  args:  roundoff (default 2)\n",
        "\n",
        "\n",
        "  output\n",
        "  dict containing key value pair\n",
        "  'mean', 'median', 'mode', 'variance', 'std_dev'\n",
        "\n",
        "  '''\n",
        "  if 'roundoff' in args.keys():\n",
        "    roundoff = args['roundoff']\n",
        "  else:\n",
        "    roundoff = 2\n",
        "\n",
        "  ans_dic = {}\n",
        "  ans_dic['mean'] = round(np.mean(obj),roundoff)\n",
        "  ans_dic['median'] = round(np.median(obj),roundoff)\n",
        "  ans_dic['mode'] = round(statistics.mode(obj),roundoff)\n",
        "  ans_dic['variance'] = round(np.var(obj),roundoff)\n",
        "  ans_dic['std_dev'] = round(np.std(obj),roundoff)\n",
        "  ans_dic['cv_value'] = round( np.std(obj) / np.mean(obj),roundoff )\n",
        "\n",
        "  return ans_dic\n",
        "\n"
      ],
      "execution_count": 11,
      "outputs": []
    },
    {
      "cell_type": "code",
      "metadata": {
        "colab": {
          "base_uri": "https://localhost:8080/"
        },
        "id": "fUl7nN1fNYSA",
        "outputId": "f6598762-9aa8-442f-a74d-7b35c676ca6a"
      },
      "source": [
        "all_vals = getStatisticsData(elements,roundoff=3)\n",
        "print(all_vals)"
      ],
      "execution_count": 12,
      "outputs": [
        {
          "output_type": "stream",
          "text": [
            "{'mean': 36.1, 'median': 33.0, 'mode': 3, 'variance': 893.89, 'std_dev': 29.898, 'cv_value': 0.828}\n"
          ],
          "name": "stdout"
        }
      ]
    },
    {
      "cell_type": "code",
      "metadata": {
        "id": "ez-6vA4FNhDg",
        "outputId": "a1ff0f20-ec77-4bd9-9ab2-ce10049cbf8f",
        "colab": {
          "base_uri": "https://localhost:8080/"
        }
      },
      "source": [
        "## find outlier in the dataset\n",
        "\n",
        "## outlier can be found with the help of the beloww concept:-\n",
        "## outlier does not lie below Lower Bound and above the Higher Bound\n",
        "## sort the data\n",
        "## find Q1 and Q3 and take diff of them\n",
        "## Lower Bound == Q1 - (1.5 * (Q3 - Q1))\n",
        "## Higher Bound == Q3 + (1.5 * (Q3 - Q1))\n",
        "\n",
        "elements = [13,56,3,78,23,87,4,3,51,43,200]\n",
        "sorted_ele = np.sort(elements)\n",
        "\n",
        "Q1 = np.percentile(sorted_ele, 25)\n",
        "Q3 = np.percentile(sorted_ele, 75)\n",
        "\n",
        "IQR = Q3 - Q1\n",
        "print(\"Q1 is\", Q1)\n",
        "print(\"Q3 is\", Q3)\n",
        "print(\"IQR is\", IQR)\n",
        "lower_ = Q1 - (1.5 * IQR)\n",
        "higher_ = Q3 + (1.5 * IQR)\n",
        "\n",
        "print(\"lower bound is:-\",lower_,\"and higher bound is:-\", higher_)\n",
        "outlier = []\n",
        "for x in sorted_ele:\n",
        "  if x < lower_ or x > higher_:\n",
        "    outlier.append(x)\n",
        "\n",
        "print(\"outliers are:-\",outlier, sep=\" \", end='\\n')\n",
        "\n"
      ],
      "execution_count": 13,
      "outputs": [
        {
          "output_type": "stream",
          "text": [
            "Q1 is 8.5\n",
            "Q3 is 67.0\n",
            "IQR is 58.5\n",
            "lower bound is:- -79.25 and higher bound is:- 154.75\n",
            "outliers are:- [200]\n"
          ],
          "name": "stdout"
        }
      ]
    },
    {
      "cell_type": "code",
      "metadata": {
        "id": "M4ZwdDzR3gCT",
        "outputId": "1c52563c-76f8-4b26-f46b-034922c6fb4b",
        "colab": {
          "base_uri": "https://localhost:8080/",
          "height": 265
        }
      },
      "source": [
        "import seaborn as sns\n",
        "import matplotlib.pyplot as plt\n",
        "\n",
        "sns.boxplot(data=sorted_ele)\n",
        "plt.show()"
      ],
      "execution_count": 15,
      "outputs": [
        {
          "output_type": "display_data",
          "data": {
            "image/png": "[encoded data removed]",
            "text/plain": [
              "<Figure size 432x288 with 1 Axes>"
            ]
          },
          "metadata": {
            "tags": [],
            "needs_background": "light"
          }
        }
      ]
    },
    {
      "cell_type": "code",
      "metadata": {
        "id": "Q-VTgfOOVkk5"
      },
      "source": [
        ""
      ],
      "execution_count": 14,
      "outputs": []
    }
  ]
}