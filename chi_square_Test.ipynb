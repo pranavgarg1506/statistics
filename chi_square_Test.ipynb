{
  "nbformat": 4,
  "nbformat_minor": 0,
  "metadata": {
    "colab": {
      "name": "chi-square Test.ipynb",
      "provenance": [],
      "authorship_tag": "ABX9TyMz0VdKkn9E7hJJXDEBIsr7",
      "include_colab_link": true
    },
    "kernelspec": {
      "name": "python3",
      "display_name": "Python 3"
    }
  },
  "cells": [
    {
      "cell_type": "markdown",
      "metadata": {
        "id": "view-in-github",
        "colab_type": "text"
      },
      "source": [
        "<a href=\"https://colab.research.google.com/github/pranavkriya/statistics/blob/main/chi_square_Test.ipynb\" target=\"_parent\"><img src=\"https://colab.research.google.com/assets/colab-badge.svg\" alt=\"Open In Colab\"/></a>"
      ]
    },
    {
      "cell_type": "code",
      "metadata": {
        "colab": {
          "base_uri": "https://localhost:8080/"
        },
        "id": "ij5Gu8PcLBeO",
        "outputId": "d784e611-a575-43c4-fbbe-5d88db7ffe5c"
      },
      "source": [
        "from scipy.stats import chi2_contingency \n",
        "\n",
        "# defining the contingency table \n",
        "data = [\n",
        "        [80,60,65],\n",
        "        [50,68,69],\n",
        "] \n",
        "stat, p, dof, expected = chi2_contingency(data) \n",
        "print(\"Expected value of the Table:-\\n\",expected)\n",
        "print(\"--\"*40)\n",
        "print(\"chi-square Static Value is\",stat)\n",
        "print(\"--\"*40)\n",
        "print(\"Degree Of Freedom\",dof)\n",
        "print(\"--\"*40)\n",
        "# interpret p-value \n",
        "alpha = 0.05\n",
        "print(\"p value is \" + str(p)) \n",
        "print(\"--\"*40)\n",
        "if p <= alpha: \n",
        "\tprint('Dependent (reject Null Hypothesis)') \n",
        "else: \n",
        "\tprint('Independent (Failed to Reject Null Hypothesis)') \n"
      ],
      "execution_count": 6,
      "outputs": [
        {
          "output_type": "stream",
          "text": [
            "Expected value of the Table:-\n",
            " [[67.98469388 66.93877551 70.07653061]\n",
            " [62.01530612 61.06122449 63.92346939]]\n",
            "--------------------------------------------------------------------------------\n",
            "chi-square Static Value is 6.730139771789483\n",
            "--------------------------------------------------------------------------------\n",
            "Degree Of Freedom 2\n",
            "--------------------------------------------------------------------------------\n",
            "p value is 0.03455960080498276\n",
            "--------------------------------------------------------------------------------\n",
            "Dependent (reject Null Hypothesis)\n"
          ],
          "name": "stdout"
        }
      ]
    },
    {
      "cell_type": "code",
      "metadata": {
        "id": "E3x2OY1CLiRd"
      },
      "source": [
        ""
      ],
      "execution_count": null,
      "outputs": []
    }
  ]
}