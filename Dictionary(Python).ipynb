{
  "nbformat": 4,
  "nbformat_minor": 0,
  "metadata": {
    "colab": {
      "name": "Dictionary(Python).ipynb",
      "provenance": [],
      "authorship_tag": "ABX9TyN18x/ahLdb2gF1yTUilBgs",
      "include_colab_link": true
    },
    "kernelspec": {
      "name": "python3",
      "display_name": "Python 3"
    },
    "language_info": {
      "name": "python"
    }
  },
  "cells": [
    {
      "cell_type": "markdown",
      "metadata": {
        "id": "view-in-github",
        "colab_type": "text"
      },
      "source": [
        "<a href=\"https://colab.research.google.com/github/pranavgarg1506/statistics/blob/main/Dictionary(Python).ipynb\" target=\"_parent\"><img src=\"https://colab.research.google.com/assets/colab-badge.svg\" alt=\"Open In Colab\"/></a>"
      ]
    },
    {
      "cell_type": "code",
      "metadata": {
        "colab": {
          "base_uri": "https://localhost:8080/"
        },
        "id": "4LxTDjdUd36Q",
        "outputId": "8a54f098-4cf7-4c1a-9ec0-042f03bed93d"
      },
      "source": [
        "## Function possibe in the Python for Dictionary\n",
        "## Whenever accessing or deleting the element perform membership test so that no KeyError exception comes\n",
        "\n",
        "\n",
        "## initalizing the dictionary\n",
        "d = {'flower':'rose', 1:2, 4:8, 'fruit':'apple', 'veg':'pea'}\n",
        "print(\"Dictioary\\n\",d)\n",
        "\n"
      ],
      "execution_count": 1,
      "outputs": [
        {
          "output_type": "stream",
          "text": [
            "Dictioary\n",
            " {'flower': 'rose', 1: 2, 4: 8, 'fruit': 'apple', 'veg': 'pea'}\n"
          ],
          "name": "stdout"
        }
      ]
    },
    {
      "cell_type": "code",
      "metadata": {
        "colab": {
          "base_uri": "https://localhost:8080/"
        },
        "id": "ZPCSHfwoeNN5",
        "outputId": "58dcab03-c9a5-4921-ffbd-a51d4b148313"
      },
      "source": [
        "# ---> it shows all the items in format of (key, value)\n",
        "d.items() \n",
        "print(\"All the items in the Dictionary\\n\",d.items())"
      ],
      "execution_count": 2,
      "outputs": [
        {
          "output_type": "stream",
          "text": [
            "All the items in the Dictionary\n",
            " dict_items([('flower', 'rose'), (1, 2), (4, 8), ('fruit', 'apple'), ('veg', 'pea')])\n"
          ],
          "name": "stdout"
        }
      ]
    },
    {
      "cell_type": "code",
      "metadata": {
        "colab": {
          "base_uri": "https://localhost:8080/"
        },
        "id": "HIxPgOEueRAp",
        "outputId": "96b5e88d-354a-446f-a524-c8d72a2144b2"
      },
      "source": [
        "# --> print all the keys of the dictionary\n",
        "print(\"All the keys present in the Dictionary\\n\",d.keys()) \n",
        "\n",
        "# --> It prints all the values in the dictionary\n",
        "print(\"All the values in the dictionary\\n\",d.values())\n",
        "\n"
      ],
      "execution_count": 3,
      "outputs": [
        {
          "output_type": "stream",
          "text": [
            "All the keys present in the Dictionary\n",
            " dict_keys(['flower', 1, 4, 'fruit', 'veg'])\n",
            "All the values in the dictionary\n",
            " dict_values(['rose', 2, 8, 'apple', 'pea'])\n"
          ],
          "name": "stdout"
        }
      ]
    },
    {
      "cell_type": "code",
      "metadata": {
        "colab": {
          "base_uri": "https://localhost:8080/"
        },
        "id": "xg2RsKqdeUwx",
        "outputId": "41d27a60-eb53-451d-d0f3-a0a985c7aec3"
      },
      "source": [
        "print(\"------\\n\")\n",
        "for k,v in d.items():\n",
        "  print(k,\"->>\",v)\n",
        "\n"
      ],
      "execution_count": 4,
      "outputs": [
        {
          "output_type": "stream",
          "text": [
            "------\n",
            "\n",
            "flower ->> rose\n",
            "1 ->> 2\n",
            "4 ->> 8\n",
            "fruit ->> apple\n",
            "veg ->> pea\n"
          ],
          "name": "stdout"
        }
      ]
    },
    {
      "cell_type": "code",
      "metadata": {
        "colab": {
          "base_uri": "https://localhost:8080/"
        },
        "id": "moHTIMBheXbF",
        "outputId": "ab3caa38-adba-4310-9a95-55f3bd8516b4"
      },
      "source": [
        "## membership Test\n",
        "print(1 in d)\n",
        "print(3 in d)\n",
        "print(3 not in d)\n",
        "\n"
      ],
      "execution_count": 5,
      "outputs": [
        {
          "output_type": "stream",
          "text": [
            "True\n",
            "False\n",
            "True\n"
          ],
          "name": "stdout"
        }
      ]
    },
    {
      "cell_type": "code",
      "metadata": {
        "colab": {
          "base_uri": "https://localhost:8080/"
        },
        "id": "-KrQSSYAeZrq",
        "outputId": "89ab7a9a-93e6-46e6-af89-f5e68e25dacb"
      },
      "source": [
        "## Deleting the elements\n",
        "## It just delete the element from the dictioary, if element is not present then KeyError\n",
        "del d[1]\n",
        "print(d)\n",
        "\n"
      ],
      "execution_count": 6,
      "outputs": [
        {
          "output_type": "stream",
          "text": [
            "{'flower': 'rose', 4: 8, 'fruit': 'apple', 'veg': 'pea'}\n"
          ],
          "name": "stdout"
        }
      ]
    },
    {
      "cell_type": "code",
      "metadata": {
        "colab": {
          "base_uri": "https://localhost:8080/"
        },
        "id": "Qfp-UWbWebN9",
        "outputId": "a417e513-c9f6-4ab5-c229-5ed944899c98"
      },
      "source": [
        "## It returns value of the key and delete the key from the dictioary, if element is not present, then KeyError\n",
        "value = d.pop(4) \n",
        "print(value)\n",
        "print(\"After using pop method to delete the key\\n\",d)\n",
        "\n",
        "\n",
        "## to avoid exception use \n",
        "value = d.pop(33,'Key not Found')\n",
        "print(\"Value after using default value of Key is\\n\",value)\n",
        "print(\"After using pop method and setting default to delete the key\\n\",d)\n"
      ],
      "execution_count": 7,
      "outputs": [
        {
          "output_type": "stream",
          "text": [
            "8\n",
            "After using pop method to delete the key\n",
            " {'flower': 'rose', 'fruit': 'apple', 'veg': 'pea'}\n",
            "Value after using default value of Key is\n",
            " Key not Found\n",
            "After using pop method and setting default to delete the key\n",
            " {'flower': 'rose', 'fruit': 'apple', 'veg': 'pea'}\n"
          ],
          "name": "stdout"
        }
      ]
    },
    {
      "cell_type": "code",
      "metadata": {
        "colab": {
          "base_uri": "https://localhost:8080/"
        },
        "id": "bv2dWVNpefjQ",
        "outputId": "71cd676c-0ecf-4372-cb13-87084d97853e"
      },
      "source": [
        "## popitem in python3.5+\n",
        "## This will return and delete the last item which is inserted in the dictionary\n",
        "item = d.popitem()\n",
        "print(\"Item after using popitem in dictioary\\n\",item)\n",
        "print(\"After using popitem method to delete the key\\n\",d)\n",
        "\n",
        "\n"
      ],
      "execution_count": 8,
      "outputs": [
        {
          "output_type": "stream",
          "text": [
            "Item after using popitem in dictioary\n",
            " ('veg', 'pea')\n",
            "After using popitem method to delete the key\n",
            " {'flower': 'rose', 'fruit': 'apple'}\n"
          ],
          "name": "stdout"
        }
      ]
    },
    {
      "cell_type": "code",
      "metadata": {
        "colab": {
          "base_uri": "https://localhost:8080/"
        },
        "id": "i7jXWgryegkf",
        "outputId": "afe2dc55-1f28-4122-8cfb-b5835348f48f"
      },
      "source": [
        "## clearing the dictionary\n",
        "d.clear()\n",
        "print(\"After clearing the dictionary\\n\",d)"
      ],
      "execution_count": 9,
      "outputs": [
        {
          "output_type": "stream",
          "text": [
            "After clearing the dictionary\n",
            " {}\n"
          ],
          "name": "stdout"
        }
      ]
    }
  ]
}