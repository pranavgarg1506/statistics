{
  "nbformat": 4,
  "nbformat_minor": 0,
  "metadata": {
    "colab": {
      "name": "Covariance vs Correlation_Coefficient vs Standardization.ipynb",
      "provenance": [],
      "authorship_tag": "ABX9TyMgXn29dDcEj8IC05QBseRT",
      "include_colab_link": true
    },
    "kernelspec": {
      "name": "python3",
      "display_name": "Python 3"
    },
    "language_info": {
      "name": "python"
    }
  },
  "cells": [
    {
      "cell_type": "markdown",
      "metadata": {
        "id": "view-in-github",
        "colab_type": "text"
      },
      "source": [
        "<a href=\"https://colab.research.google.com/github/pranavgarg1506/statistics/blob/main/Covariance_vs_Correlation_Coefficient_vs_Standardization.ipynb\" target=\"_parent\"><img src=\"https://colab.research.google.com/assets/colab-badge.svg\" alt=\"Open In Colab\"/></a>"
      ]
    },
    {
      "cell_type": "code",
      "metadata": {
        "id": "Sa0D1fimmTIn"
      },
      "source": [
        "import numpy as np\n"
      ],
      "execution_count": 1,
      "outputs": []
    },
    {
      "cell_type": "code",
      "metadata": {
        "id": "ZK8hb8cQmU9k"
      },
      "source": [
        "data1 = [10, 20, 30, 40, 55, 65, 70]\n",
        "data2 = [11, 12, 13, 14.5, 15.5, 16, 16.5]"
      ],
      "execution_count": 2,
      "outputs": []
    },
    {
      "cell_type": "code",
      "metadata": {
        "colab": {
          "base_uri": "https://localhost:8080/"
        },
        "id": "k4PDWgD0mg67",
        "outputId": "04815457-0054-4c18-9e7b-b106adc4bfec"
      },
      "source": [
        "## imp data\n",
        "data1_mean = sum(data1) / len(data1)\n",
        "print(\"mean of data1\",data1_mean)\n",
        "data2_mean = sum(data2) / len(data2)\n",
        "print(\"mean of data2\",data2_mean)\n",
        "\n",
        "print('-'*39)\n",
        "data1_var = np.var(data1)\n",
        "print(\"Variance of data1\",data1_var)\n",
        "data2_var = np.var(data2)\n",
        "print(\"Variance of data2\",data2_var)\n",
        "\n",
        "print('-'*39)\n",
        "data1_std = np.std(data1)\n",
        "print(\"std of data1\",data1_std)\n",
        "data2_std = np.std(data2)\n",
        "print(\"std of data2\",data2_std)"
      ],
      "execution_count": 3,
      "outputs": [
        {
          "output_type": "stream",
          "text": [
            "mean of data1 41.42857142857143\n",
            "mean of data2 14.071428571428571\n",
            "---------------------------------------\n",
            "Variance of data1 447.9591836734694\n",
            "Variance of data2 3.816326530612245\n",
            "---------------------------------------\n",
            "std of data1 21.165046271470075\n",
            "std of data2 1.953542047311049\n"
          ],
          "name": "stdout"
        }
      ]
    },
    {
      "cell_type": "code",
      "metadata": {
        "colab": {
          "base_uri": "https://localhost:8080/"
        },
        "id": "IAIOWt-ImpJ9",
        "outputId": "38c01f82-7860-4554-adc0-24157edb6646"
      },
      "source": [
        "## covariance\n",
        "\n",
        "cov_before = sum((data1 - data1_mean) * (data2 - data2_mean) for (data1, data2) in zip(data1,data2)) / len(data1)\n",
        "print(cov_before)"
      ],
      "execution_count": 4,
      "outputs": [
        {
          "output_type": "stream",
          "text": [
            "40.96938775510204\n"
          ],
          "name": "stdout"
        }
      ]
    },
    {
      "cell_type": "code",
      "metadata": {
        "colab": {
          "base_uri": "https://localhost:8080/"
        },
        "id": "caUmKMzaneNe",
        "outputId": "b7943c67-c51b-43a4-dddb-d360ce208d88"
      },
      "source": [
        "## corelation coefficient\n",
        "\n",
        "corr_before = cov_before / (data1_std * data2_std)\n",
        "print(corr_before)"
      ],
      "execution_count": 5,
      "outputs": [
        {
          "output_type": "stream",
          "text": [
            "0.9908718450261079\n"
          ],
          "name": "stdout"
        }
      ]
    },
    {
      "cell_type": "markdown",
      "metadata": {
        "id": "ZoOoU5BjntHJ"
      },
      "source": [
        "# After Applying Standardization"
      ]
    },
    {
      "cell_type": "code",
      "metadata": {
        "colab": {
          "base_uri": "https://localhost:8080/"
        },
        "id": "9L7lSlcnnwmc",
        "outputId": "ed993cb2-f1c2-498a-ae20-ccc143725af6"
      },
      "source": [
        "data1 =  [ (i - data1_mean)/data1_std for i in data1]\n",
        "print(data1)\n",
        "\n",
        "print('-'*39)\n",
        "data2 =  [ (i - data2_mean)/data2_std for i in data2]\n",
        "print(data2)"
      ],
      "execution_count": 6,
      "outputs": [
        {
          "output_type": "stream",
          "text": [
            "[-1.4849280755382197, -1.0124509605942407, -0.5399738456502617, -0.0674967307062828, 0.6412189417096856, 1.1136960566536647, 1.349934614125654]\n",
            "---------------------------------------\n",
            "[-1.5722357118733308, -1.0603450149843394, -0.5484543180953478, 0.21938172723813934, 0.7312724241271308, 0.9872177725716266, 1.2431631210161223]\n"
          ],
          "name": "stdout"
        }
      ]
    },
    {
      "cell_type": "code",
      "metadata": {
        "colab": {
          "base_uri": "https://localhost:8080/"
        },
        "id": "A482iCOUoBRP",
        "outputId": "21bff4ef-8dd8-4a3f-df21-0a28f5271d6d"
      },
      "source": [
        "## imp data\n",
        "data1_mean = sum(data1) / len(data1)\n",
        "print(\"mean of data1\",data1_mean)\n",
        "data2_mean = sum(data2) / len(data2)\n",
        "print(\"mean of data2\",data2_mean)\n",
        "\n",
        "print('-'*39)\n",
        "data1_var = np.var(data1)\n",
        "print(\"Variance of data1\",data1_var)\n",
        "data2_var = np.var(data2)\n",
        "print(\"Variance of data2\",data2_var)\n",
        "\n",
        "print('-'*39)\n",
        "data1_std = np.std(data1)\n",
        "print(\"std of data1\",data1_std)\n",
        "data2_std = np.std(data2)\n",
        "print(\"std of data2\",data2_std)"
      ],
      "execution_count": 7,
      "outputs": [
        {
          "output_type": "stream",
          "text": [
            "mean of data1 -3.172065784643304e-17\n",
            "mean of data2 1.5860328923216522e-16\n",
            "---------------------------------------\n",
            "Variance of data1 1.0000000000000002\n",
            "Variance of data2 1.0\n",
            "---------------------------------------\n",
            "std of data1 1.0\n",
            "std of data2 1.0\n"
          ],
          "name": "stdout"
        }
      ]
    },
    {
      "cell_type": "code",
      "metadata": {
        "colab": {
          "base_uri": "https://localhost:8080/"
        },
        "id": "QF0WM4Ezo7Hd",
        "outputId": "265ab389-e922-41f7-a4af-1eef5feb7102"
      },
      "source": [
        "## covariance\n",
        "\n",
        "cov_after = sum((data1 - data1_mean) * (data2 - data2_mean) for (data1, data2) in zip(data1,data2)) / len(data1)\n",
        "print(cov_after)"
      ],
      "execution_count": 8,
      "outputs": [
        {
          "output_type": "stream",
          "text": [
            "0.9908718450261079\n"
          ],
          "name": "stdout"
        }
      ]
    },
    {
      "cell_type": "code",
      "metadata": {
        "colab": {
          "base_uri": "https://localhost:8080/"
        },
        "id": "-E9kU_BbpAUr",
        "outputId": "9d7a5bde-a556-471e-ba50-c348466afdf9"
      },
      "source": [
        "## corelation coefficient\n",
        "\n",
        "corr_after = cov_after / (data1_std * data2_std)\n",
        "print(corr_after)"
      ],
      "execution_count": 9,
      "outputs": [
        {
          "output_type": "stream",
          "text": [
            "0.9908718450261079\n"
          ],
          "name": "stdout"
        }
      ]
    },
    {
      "cell_type": "code",
      "metadata": {
        "colab": {
          "base_uri": "https://localhost:8080/"
        },
        "id": "c1TvwdIyqXY9",
        "outputId": "3ae0afec-6d22-4326-da59-4a7937039f5c"
      },
      "source": [
        "## change in the correlation after applying standardization is\n",
        "\n",
        "abs(corr_after - corr_before) / corr_before * 100"
      ],
      "execution_count": 10,
      "outputs": [
        {
          "output_type": "execute_result",
          "data": {
            "text/plain": [
              "0.0"
            ]
          },
          "metadata": {
            "tags": []
          },
          "execution_count": 10
        }
      ]
    },
    {
      "cell_type": "markdown",
      "metadata": {
        "id": "dkq6yp1NrEQD"
      },
      "source": [
        "# Conclusions\n",
        "\n",
        "1. Standardization does not have any effect over correlation coefficient.\n",
        "2. After Standardization, covariance tends to become correlation coefficient."
      ]
    },
    {
      "cell_type": "code",
      "metadata": {
        "id": "2BL33bVPrVIh"
      },
      "source": [
        ""
      ],
      "execution_count": null,
      "outputs": []
    }
  ]
}