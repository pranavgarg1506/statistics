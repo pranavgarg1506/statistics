{
  "nbformat": 4,
  "nbformat_minor": 0,
  "metadata": {
    "colab": {
      "name": "Normal Distribution.ipynb",
      "provenance": [],
      "include_colab_link": true
    },
    "kernelspec": {
      "name": "python3",
      "display_name": "Python 3"
    },
    "language_info": {
      "name": "python"
    }
  },
  "cells": [
    {
      "cell_type": "markdown",
      "metadata": {
        "id": "view-in-github",
        "colab_type": "text"
      },
      "source": [
        "<a href=\"https://colab.research.google.com/github/pranavgarg1506/statistics/blob/main/Normal_Distribution.ipynb\" target=\"_parent\"><img src=\"https://colab.research.google.com/assets/colab-badge.svg\" alt=\"Open In Colab\"/></a>"
      ]
    },
    {
      "cell_type": "code",
      "metadata": {
        "id": "YFteQcGS9F4P"
      },
      "source": [
        "from scipy.stats import norm\n",
        "import numpy as np\n",
        "import matplotlib.pyplot as plt\n",
        "import seaborn as sns"
      ],
      "execution_count": 1,
      "outputs": []
    },
    {
      "cell_type": "code",
      "metadata": {
        "colab": {
          "base_uri": "https://localhost:8080/",
          "height": 265
        },
        "id": "AIwJkHha90AM",
        "outputId": "1e0c7a03-1be3-4c64-ac91-2f67166e1b4d"
      },
      "source": [
        "## plotting a normal standard distribution curve\n",
        "\n",
        "x = np.arange(1,10, 0.01)\n",
        "mean = np.mean(x)\n",
        "sd = np.std(x)\n",
        "\n",
        "pdf = norm.pdf(x, loc = mean, scale = sd)\n",
        "\n",
        "sns.lineplot(x=x, y=pdf)\n",
        "plt.show()"
      ],
      "execution_count": 2,
      "outputs": [
        {
          "output_type": "display_data",
          "data": {
            "image/png": "[encoded data removed]",
            "text/plain": [
              "<Figure size 432x288 with 1 Axes>"
            ]
          },
          "metadata": {
            "tags": [],
            "needs_background": "light"
          }
        }
      ]
    },
    {
      "cell_type": "code",
      "metadata": {
        "colab": {
          "base_uri": "https://localhost:8080/"
        },
        "id": "1tH4dX7IQQuw",
        "outputId": "f6014367-d475-4561-8627-ad1c1a0179af"
      },
      "source": [
        "mean = 1120\n",
        "sd = 140\n",
        "prob = norm(loc = mean, scale = sd).cdf(1250)\n",
        "print(round(prob*100,2))"
      ],
      "execution_count": 3,
      "outputs": [
        {
          "output_type": "stream",
          "text": [
            "82.34\n"
          ],
          "name": "stdout"
        }
      ]
    },
    {
      "cell_type": "code",
      "metadata": {
        "colab": {
          "base_uri": "https://localhost:8080/"
        },
        "id": "eXqXv-8NBRfQ",
        "outputId": "5056a65d-f0ab-4f70-89df-10ecb0b92b1d"
      },
      "source": [
        "mean = 1120\n",
        "sd = 140\n",
        "\n",
        "upper_prob = norm(loc = mean, scale = sd).cdf(1250)\n",
        "lower_prob = norm(loc = mean, scale = sd).cdf(1100)\n",
        "\n",
        "prob = upper_prob - lower_prob\n",
        "print(round(prob*100,2))"
      ],
      "execution_count": 4,
      "outputs": [
        {
          "output_type": "stream",
          "text": [
            "38.02\n"
          ],
          "name": "stdout"
        }
      ]
    },
    {
      "cell_type": "code",
      "metadata": {
        "id": "p_67BfDR_g48",
        "outputId": "567e8b4f-dd84-4303-ab9e-1759366cb66a",
        "colab": {
          "base_uri": "https://localhost:8080/"
        }
      },
      "source": [
        "## method 1\n",
        "val1 = norm.ppf(q = .8234, loc = mean, scale = sd)\n",
        "print(round(val1,1))\n",
        "\n",
        "\n",
        "## method 2\n",
        "val2 = ( norm.ppf(.8234) * sd ) + mean\n",
        "print(round(val2,1))"
      ],
      "execution_count": 18,
      "outputs": [
        {
          "output_type": "stream",
          "text": [
            "1250.0\n",
            "1250.0\n"
          ],
          "name": "stdout"
        }
      ]
    },
    {
      "cell_type": "code",
      "metadata": {
        "id": "bV_z9LeTQgnD"
      },
      "source": [
        ""
      ],
      "execution_count": null,
      "outputs": []
    }
  ]
}